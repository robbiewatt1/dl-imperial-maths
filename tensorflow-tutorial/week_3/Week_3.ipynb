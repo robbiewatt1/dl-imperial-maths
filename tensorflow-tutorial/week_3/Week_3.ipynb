{
 "cells": [
  {
   "cell_type": "markdown",
   "metadata": {},
   "source": [
    "### Week 3: CNN classifier"
   ]
  },
  {
   "cell_type": "code",
   "execution_count": 1,
   "metadata": {},
   "outputs": [],
   "source": [
    "import tensorflow as tf"
   ]
  },
  {
   "cell_type": "markdown",
   "metadata": {},
   "source": [
    "SVHN can be downloaded from http://ufldl.stanford.edu/housenumbers/"
   ]
  },
  {
   "cell_type": "markdown",
   "metadata": {},
   "source": [
    "## Import and preprocess the data"
   ]
  },
  {
   "cell_type": "code",
   "execution_count": 2,
   "metadata": {},
   "outputs": [],
   "source": [
    "from scipy.io import loadmat\n",
    "\n",
    "train = loadmat('./train_32x32.mat')\n",
    "test = loadmat('./test_32x32.mat')"
   ]
  },
  {
   "cell_type": "markdown",
   "metadata": {},
   "source": [
    "`train` and `test` are dictionaries with keys `'X'` and `'y'`. The values are numpy arrays."
   ]
  },
  {
   "cell_type": "code",
   "execution_count": 3,
   "metadata": {},
   "outputs": [
    {
     "name": "stdout",
     "output_type": "stream",
     "text": [
      "(32, 32, 3, 73257)\n",
      "(73257, 1)\n"
     ]
    }
   ],
   "source": [
    "print(train['X'].shape)\n",
    "print(train['y'].shape)"
   ]
  },
  {
   "cell_type": "code",
   "execution_count": 4,
   "metadata": {},
   "outputs": [
    {
     "name": "stdout",
     "output_type": "stream",
     "text": [
      "(32, 32, 3, 26032)\n",
      "(26032, 1)\n"
     ]
    }
   ],
   "source": [
    "print(test['X'].shape)\n",
    "print(test['y'].shape)"
   ]
  },
  {
   "cell_type": "code",
   "execution_count": 5,
   "metadata": {},
   "outputs": [],
   "source": [
    "import numpy as np\n",
    "\n",
    "training_set = np.transpose(train['X'], (3, 0, 1, 2)).astype(np.float32)\n",
    "training_labels = train['y']\n",
    "\n",
    "test_set = np.transpose(test['X'], (3, 0, 1, 2)).astype(np.float32)\n",
    "test_labels = test['y']"
   ]
  },
  {
   "cell_type": "code",
   "execution_count": 6,
   "metadata": {},
   "outputs": [],
   "source": [
    "n_train = training_set.shape[0]\n",
    "n_test = test_set.shape[0]"
   ]
  },
  {
   "cell_type": "markdown",
   "metadata": {},
   "source": [
    "### Inspect the data"
   ]
  },
  {
   "cell_type": "code",
   "execution_count": 7,
   "metadata": {},
   "outputs": [],
   "source": [
    "from matplotlib import pyplot as plt"
   ]
  },
  {
   "cell_type": "code",
   "execution_count": 8,
   "metadata": {},
   "outputs": [
    {
     "name": "stderr",
     "output_type": "stream",
     "text": [
      "Clipping input data to the valid range for imshow with RGB data ([0..1] for floats or [0..255] for integers).\n"
     ]
    },
    {
     "data": {
      "image/png": "[encoded data removed]",
      "text/plain": [
       "<Figure size 432x288 with 1 Axes>"
      ]
     },
     "metadata": {
      "needs_background": "light"
     },
     "output_type": "display_data"
    },
    {
     "name": "stdout",
     "output_type": "stream",
     "text": [
      "Digit: 1\n"
     ]
    }
   ],
   "source": [
    "example = np.random.choice(np.arange(n_train))\n",
    "\n",
    "image = training_set[example]\n",
    "label = training_labels[example][0]\n",
    "\n",
    "if label == 10:\n",
    "    label = 0\n",
    "\n",
    "plt.imshow(image)\n",
    "plt.show()\n",
    "\n",
    "print(\"Digit: {}\".format(label))"
   ]
  },
  {
   "cell_type": "markdown",
   "metadata": {},
   "source": [
    "### Convert the images to grayscale"
   ]
  },
  {
   "cell_type": "code",
   "execution_count": 9,
   "metadata": {},
   "outputs": [],
   "source": [
    "def convert_to_grayscale(images):\n",
    "    images = np.add.reduce(images, keepdims=True, axis=3)\n",
    "    images = images / 3.0\n",
    "    return images / 128.0 - 1.0"
   ]
  },
  {
   "cell_type": "code",
   "execution_count": 10,
   "metadata": {},
   "outputs": [],
   "source": [
    "training_set_gs = convert_to_grayscale(training_set)\n",
    "test_set_gs = convert_to_grayscale(test_set)"
   ]
  },
  {
   "cell_type": "code",
   "execution_count": 11,
   "metadata": {},
   "outputs": [
    {
     "name": "stdout",
     "output_type": "stream",
     "text": [
      "(73257, 32, 32, 1)\n",
      "(26032, 32, 32, 1)\n"
     ]
    }
   ],
   "source": [
    "print(training_set_gs.shape)\n",
    "print(test_set_gs.shape)"
   ]
  },
  {
   "cell_type": "code",
   "execution_count": 12,
   "metadata": {},
   "outputs": [
    {
     "data": {
      "image/png": "[encoded data removed]",
      "text/plain": [
       "<Figure size 432x288 with 1 Axes>"
      ]
     },
     "metadata": {
      "needs_background": "light"
     },
     "output_type": "display_data"
    },
    {
     "name": "stdout",
     "output_type": "stream",
     "text": [
      "Digit: 1\n"
     ]
    }
   ],
   "source": [
    "example = np.random.choice(np.arange(n_train))\n",
    "\n",
    "image = training_set_gs[example]\n",
    "label = training_labels[example][0]\n",
    "\n",
    "if label == 10:\n",
    "    label = 0\n",
    "\n",
    "plt.imshow(np.squeeze(image), cmap='gray')\n",
    "plt.show()\n",
    "\n",
    "print(\"Digit: {}\".format(label))"
   ]
  },
  {
   "cell_type": "markdown",
   "metadata": {},
   "source": [
    "Don't flatten the inputs! Use a CNN to process the image"
   ]
  },
  {
   "cell_type": "code",
   "execution_count": 13,
   "metadata": {},
   "outputs": [],
   "source": [
    "# training_set_flat = training_set_gs.reshape((n_train, -1))\n",
    "# test_set_flat = test_set_gs.reshape((n_test, -1))"
   ]
  },
  {
   "cell_type": "markdown",
   "metadata": {},
   "source": [
    "### Encode the labels as one-hot vectors"
   ]
  },
  {
   "cell_type": "code",
   "execution_count": 14,
   "metadata": {},
   "outputs": [],
   "source": [
    "def one_hot(labels):\n",
    "    \"\"\"\n",
    "    Encodes the labels as one-hot vectors. Zero is represented as 10 in SVHN.\n",
    "    [10] -> [1, 0, 0, 0, 0, 0, 0, 0, 0, 0]\n",
    "    [2] -> [0, 0, 1, 0, 0, 0, 0, 0, 0, 0]\n",
    "    \n",
    "    \"\"\"\n",
    "    labels = np.squeeze(labels)\n",
    "    one_hot_labels = []\n",
    "    for num in labels:\n",
    "        one_hot = [0.0] * 10\n",
    "        if num == 10:\n",
    "            one_hot[0] = 1.0\n",
    "        else:\n",
    "            one_hot[num] = 1.0\n",
    "        one_hot_labels.append(one_hot)\n",
    "    labels = np.array(one_hot_labels).astype(np.float32)\n",
    "    return labels"
   ]
  },
  {
   "cell_type": "code",
   "execution_count": 15,
   "metadata": {},
   "outputs": [],
   "source": [
    "training_labels_one_hot = one_hot(training_labels)\n",
    "test_labels_one_hot = one_hot(test_labels)"
   ]
  },
  {
   "cell_type": "code",
   "execution_count": 16,
   "metadata": {},
   "outputs": [
    {
     "name": "stdout",
     "output_type": "stream",
     "text": [
      "(73257, 10)\n",
      "(26032, 10)\n"
     ]
    }
   ],
   "source": [
    "print(training_labels_one_hot.shape)\n",
    "print(test_labels_one_hot.shape)"
   ]
  },
  {
   "cell_type": "markdown",
   "metadata": {},
   "source": [
    "## Build the network"
   ]
  },
  {
   "cell_type": "code",
   "execution_count": 17,
   "metadata": {},
   "outputs": [],
   "source": [
    "class SVHN_CNN:\n",
    "    def __init__(self, wd_factor, learning_rate):\n",
    "        self.wd_factor = wd_factor\n",
    "        self.learning_rate = learning_rate\n",
    "        self.train_pointer = 0\n",
    "        self.test_pointer = 0\n",
    "        \n",
    "        self.input = tf.placeholder(dtype=tf.float32, shape=[None, 32, 32, 1], name='input')\n",
    "        self.ground_truth = tf.placeholder(dtype=tf.float32, shape=[None, 10], name='ground_truth')\n",
    "        \n",
    "        # For batch norm and dropout\n",
    "        self.is_training = tf.placeholder(tf.bool, name='is_training')\n",
    "        print(self.input)\n",
    "        \n",
    "        self._build_graph()\n",
    "        \n",
    "    def _build_graph(self):\n",
    "        weights = []  # for weight decay\n",
    "        \n",
    "        with tf.variable_scope('layers'):\n",
    "            h = tf.layers.conv2d(self.input, 32, (11, 11), strides=(4, 4), padding='same', \n",
    "                                 data_format='channels_last', activation=None, use_bias=True,\n",
    "                                 kernel_initializer=tf.glorot_uniform_initializer(), name='conv1')\n",
    "            print(h)\n",
    "            \n",
    "            h = tf.layers.batch_normalization(h, training=self.is_training)\n",
    "            h = tf.nn.relu(h)\n",
    "            h = tf.layers.conv2d(h, 64, (5, 5), strides=(1, 1), padding='same', \n",
    "                                 data_format='channels_last', activation=None, use_bias=True,\n",
    "                                 kernel_initializer=tf.glorot_uniform_initializer(), name='conv2')\n",
    "            \n",
    "            h = tf.layers.batch_normalization(h, training=self.is_training)\n",
    "            h = tf.nn.relu(h)\n",
    "            h = tf.layers.conv2d(h, 64, (3, 3), strides=(1, 1), padding='same', \n",
    "                                 data_format='channels_last', activation=None, use_bias=True,\n",
    "                                 kernel_initializer=tf.glorot_uniform_initializer(), name='conv3')\n",
    "            \n",
    "            # Downsample\n",
    "            h = tf.layers.max_pooling2d(h, (2, 2), (2, 2), padding='valid', name='pool1')\n",
    "            print(h)\n",
    "            \n",
    "            # Fully connected layers\n",
    "            h = tf.layers.batch_normalization(h, training=self.is_training)\n",
    "            h = tf.nn.relu(h)\n",
    "            h = tf.layers.flatten(h)\n",
    "            print(h)\n",
    "            \n",
    "            h = tf.layers.dense(h, 32, kernel_initializer=tf.glorot_uniform_initializer(), \n",
    "                                activation=tf.nn.relu, name='dense1')\n",
    "            print(h)\n",
    "            h = tf.layers.dropout(h, rate=0.25, training=self.is_training, name='dropout1')\n",
    "            print(h)\n",
    "            \n",
    "            self.logits = tf.layers.dense(h, 10, kernel_initializer=tf.glorot_uniform_initializer(), \n",
    "                                          activation=tf.identity, name='dense2')\n",
    "            print(self.logits)\n",
    "            self.prediction = tf.nn.softmax(self.logits, name='softmax_prediction')\n",
    "            \n",
    "        with tf.name_scope('loss'):\n",
    "            self.loss = tf.reduce_mean(tf.nn.softmax_cross_entropy_with_logits_v2(logits=self.logits, \n",
    "                                                                                  labels=self.ground_truth))\n",
    "            self.loss += self.weight_decay()\n",
    "            \n",
    "        self.optimizer = tf.train.AdamOptimizer(self.learning_rate)\n",
    "        \n",
    "        update_ops = tf.get_collection(tf.GraphKeys.UPDATE_OPS)\n",
    "        with tf.control_dependencies(update_ops):\n",
    "            self.train_op = self.optimizer.minimize(self.loss)\n",
    "            \n",
    "    def weight_decay(self):\n",
    "        loss = 0\n",
    "        for v in tf.global_variables():\n",
    "            if 'Adam' in v.name:\n",
    "                continue\n",
    "            elif 'kernel' in v.name:\n",
    "                loss += self.wd_factor * tf.nn.l2_loss(v)\n",
    "        print(loss)\n",
    "        return loss\n",
    "    \n",
    "    def train_minibatch(self, samples, labels, batch_size):\n",
    "        if self.train_pointer + batch_size <= samples.shape[0]:\n",
    "            samples_minibatch = samples[self.train_pointer: self.train_pointer + batch_size]\n",
    "            labels_minibatch = labels[self.train_pointer: self.train_pointer + batch_size]\n",
    "            self.train_pointer += batch_size\n",
    "        else:\n",
    "            samples_minibatch = samples[self.train_pointer:]\n",
    "            labels_minibatch = labels[self.train_pointer: self.train_pointer + batch_size]\n",
    "            self.train_pointer = 0\n",
    "        return samples_minibatch, labels_minibatch\n",
    "\n",
    "    def train(self, train_samples, train_labels, train_batch_size, iteration_steps):\n",
    "        print('Start Training')\n",
    "        losses = []\n",
    "        \n",
    "        with tf.Session() as sess:\n",
    "            sess.run(tf.global_variables_initializer())\n",
    "            saver = tf.train.Saver()\n",
    "            \n",
    "            for i in range(iteration_steps):\n",
    "                samples, labels = self.train_minibatch(train_samples, train_labels, train_batch_size)\n",
    "                \n",
    "                feed_dict = {self.input: samples, self.ground_truth: labels, self.is_training: True}\n",
    "                _, loss = sess.run([self.train_op, self.loss], feed_dict=feed_dict)\n",
    "                \n",
    "                if i % 50 == 0:\n",
    "                    print(\"Minibatch loss at step {}: {}\".format(i, loss))\n",
    "                    losses.append([i, loss])\n",
    "                    \n",
    "            saver.save(sess, './model')\n",
    "        return losses\n",
    "                    \n",
    "    def test_minibatch(self, samples, labels, batch_size):\n",
    "        if self.test_pointer + batch_size <= samples.shape[0]:\n",
    "            samples_minibatch = samples[self.test_pointer: self.test_pointer + batch_size]\n",
    "            labels_minibatch = labels[self.test_pointer: self.test_pointer + batch_size]\n",
    "            self.test_pointer += batch_size\n",
    "            end_of_epoch = False\n",
    "        else:\n",
    "            samples_minibatch = samples[self.test_pointer:]\n",
    "            labels_minibatch = labels[self.test_pointer: self.test_pointer + batch_size]\n",
    "            self.test_pointer = 0\n",
    "            end_of_epoch = True\n",
    "        return samples_minibatch, labels_minibatch, end_of_epoch\n",
    "            \n",
    "    def test(self, test_samples, test_labels, test_batch_size):\n",
    "        self.test_pointer = 0\n",
    "        end_of_epoch = False\n",
    "        losses = []\n",
    "        \n",
    "        with tf.Session() as sess:\n",
    "            saver = tf.train.import_meta_graph(\"./model.meta\")\n",
    "            saver.restore(sess, './model')\n",
    "            while not end_of_epoch:\n",
    "                samples, labels, end_of_epoch = self.test_minibatch(test_samples, test_labels, test_batch_size)\n",
    "                feed_dict = {self.input: samples, self.ground_truth: labels, self.is_training: False}\n",
    "                losses.append(sess.run(self.loss, feed_dict=feed_dict))  \n",
    "        print(\"Average test loss: {}\".format(np.mean(losses)))"
   ]
  },
  {
   "cell_type": "code",
   "execution_count": 18,
   "metadata": {},
   "outputs": [
    {
     "name": "stdout",
     "output_type": "stream",
     "text": [
      "Tensor(\"input:0\", shape=(?, 32, 32, 1), dtype=float32)\n",
      "Tensor(\"layers/conv1/BiasAdd:0\", shape=(?, 8, 8, 32), dtype=float32)\n",
      "Tensor(\"layers/pool1/MaxPool:0\", shape=(?, 4, 4, 64), dtype=float32)\n",
      "Tensor(\"layers/flatten/Reshape:0\", shape=(?, 1024), dtype=float32)\n",
      "Tensor(\"layers/dense1/Relu:0\", shape=(?, 32), dtype=float32)\n",
      "Tensor(\"layers/dropout1/cond/Merge:0\", shape=(?, 32), dtype=float32)\n",
      "Tensor(\"layers/dense2/Identity:0\", shape=(?, 10), dtype=float32)\n",
      "Tensor(\"loss/add_4:0\", shape=(), dtype=float32)\n"
     ]
    }
   ],
   "source": [
    "WD_FACTOR = 0.0\n",
    "LEARNING_RATE = 0.001\n",
    "model = SVHN_CNN(WD_FACTOR, LEARNING_RATE)"
   ]
  },
  {
   "cell_type": "code",
   "execution_count": 19,
   "metadata": {},
   "outputs": [
    {
     "data": {
      "text/plain": [
       "[<tf.Variable 'layers/conv1/kernel:0' shape=(11, 11, 1, 32) dtype=float32_ref>,\n",
       " <tf.Variable 'layers/conv1/bias:0' shape=(32,) dtype=float32_ref>,\n",
       " <tf.Variable 'layers/batch_normalization/gamma:0' shape=(32,) dtype=float32_ref>,\n",
       " <tf.Variable 'layers/batch_normalization/beta:0' shape=(32,) dtype=float32_ref>,\n",
       " <tf.Variable 'layers/batch_normalization/moving_mean:0' shape=(32,) dtype=float32_ref>,\n",
       " <tf.Variable 'layers/batch_normalization/moving_variance:0' shape=(32,) dtype=float32_ref>,\n",
       " <tf.Variable 'layers/conv2/kernel:0' shape=(5, 5, 32, 64) dtype=float32_ref>,\n",
       " <tf.Variable 'layers/conv2/bias:0' shape=(64,) dtype=float32_ref>,\n",
       " <tf.Variable 'layers/batch_normalization_1/gamma:0' shape=(64,) dtype=float32_ref>,\n",
       " <tf.Variable 'layers/batch_normalization_1/beta:0' shape=(64,) dtype=float32_ref>,\n",
       " <tf.Variable 'layers/batch_normalization_1/moving_mean:0' shape=(64,) dtype=float32_ref>,\n",
       " <tf.Variable 'layers/batch_normalization_1/moving_variance:0' shape=(64,) dtype=float32_ref>,\n",
       " <tf.Variable 'layers/conv3/kernel:0' shape=(3, 3, 64, 64) dtype=float32_ref>,\n",
       " <tf.Variable 'layers/conv3/bias:0' shape=(64,) dtype=float32_ref>,\n",
       " <tf.Variable 'layers/batch_normalization_2/gamma:0' shape=(64,) dtype=float32_ref>,\n",
       " <tf.Variable 'layers/batch_normalization_2/beta:0' shape=(64,) dtype=float32_ref>,\n",
       " <tf.Variable 'layers/batch_normalization_2/moving_mean:0' shape=(64,) dtype=float32_ref>,\n",
       " <tf.Variable 'layers/batch_normalization_2/moving_variance:0' shape=(64,) dtype=float32_ref>,\n",
       " <tf.Variable 'layers/dense1/kernel:0' shape=(1024, 32) dtype=float32_ref>,\n",
       " <tf.Variable 'layers/dense1/bias:0' shape=(32,) dtype=float32_ref>,\n",
       " <tf.Variable 'layers/dense2/kernel:0' shape=(32, 10) dtype=float32_ref>,\n",
       " <tf.Variable 'layers/dense2/bias:0' shape=(10,) dtype=float32_ref>,\n",
       " <tf.Variable 'beta1_power:0' shape=() dtype=float32_ref>,\n",
       " <tf.Variable 'beta2_power:0' shape=() dtype=float32_ref>,\n",
       " <tf.Variable 'layers/conv1/kernel/Adam:0' shape=(11, 11, 1, 32) dtype=float32_ref>,\n",
       " <tf.Variable 'layers/conv1/kernel/Adam_1:0' shape=(11, 11, 1, 32) dtype=float32_ref>,\n",
       " <tf.Variable 'layers/conv1/bias/Adam:0' shape=(32,) dtype=float32_ref>,\n",
       " <tf.Variable 'layers/conv1/bias/Adam_1:0' shape=(32,) dtype=float32_ref>,\n",
       " <tf.Variable 'layers/batch_normalization/gamma/Adam:0' shape=(32,) dtype=float32_ref>,\n",
       " <tf.Variable 'layers/batch_normalization/gamma/Adam_1:0' shape=(32,) dtype=float32_ref>,\n",
       " <tf.Variable 'layers/batch_normalization/beta/Adam:0' shape=(32,) dtype=float32_ref>,\n",
       " <tf.Variable 'layers/batch_normalization/beta/Adam_1:0' shape=(32,) dtype=float32_ref>,\n",
       " <tf.Variable 'layers/conv2/kernel/Adam:0' shape=(5, 5, 32, 64) dtype=float32_ref>,\n",
       " <tf.Variable 'layers/conv2/kernel/Adam_1:0' shape=(5, 5, 32, 64) dtype=float32_ref>,\n",
       " <tf.Variable 'layers/conv2/bias/Adam:0' shape=(64,) dtype=float32_ref>,\n",
       " <tf.Variable 'layers/conv2/bias/Adam_1:0' shape=(64,) dtype=float32_ref>,\n",
       " <tf.Variable 'layers/batch_normalization_1/gamma/Adam:0' shape=(64,) dtype=float32_ref>,\n",
       " <tf.Variable 'layers/batch_normalization_1/gamma/Adam_1:0' shape=(64,) dtype=float32_ref>,\n",
       " <tf.Variable 'layers/batch_normalization_1/beta/Adam:0' shape=(64,) dtype=float32_ref>,\n",
       " <tf.Variable 'layers/batch_normalization_1/beta/Adam_1:0' shape=(64,) dtype=float32_ref>,\n",
       " <tf.Variable 'layers/conv3/kernel/Adam:0' shape=(3, 3, 64, 64) dtype=float32_ref>,\n",
       " <tf.Variable 'layers/conv3/kernel/Adam_1:0' shape=(3, 3, 64, 64) dtype=float32_ref>,\n",
       " <tf.Variable 'layers/conv3/bias/Adam:0' shape=(64,) dtype=float32_ref>,\n",
       " <tf.Variable 'layers/conv3/bias/Adam_1:0' shape=(64,) dtype=float32_ref>,\n",
       " <tf.Variable 'layers/batch_normalization_2/gamma/Adam:0' shape=(64,) dtype=float32_ref>,\n",
       " <tf.Variable 'layers/batch_normalization_2/gamma/Adam_1:0' shape=(64,) dtype=float32_ref>,\n",
       " <tf.Variable 'layers/batch_normalization_2/beta/Adam:0' shape=(64,) dtype=float32_ref>,\n",
       " <tf.Variable 'layers/batch_normalization_2/beta/Adam_1:0' shape=(64,) dtype=float32_ref>,\n",
       " <tf.Variable 'layers/dense1/kernel/Adam:0' shape=(1024, 32) dtype=float32_ref>,\n",
       " <tf.Variable 'layers/dense1/kernel/Adam_1:0' shape=(1024, 32) dtype=float32_ref>,\n",
       " <tf.Variable 'layers/dense1/bias/Adam:0' shape=(32,) dtype=float32_ref>,\n",
       " <tf.Variable 'layers/dense1/bias/Adam_1:0' shape=(32,) dtype=float32_ref>,\n",
       " <tf.Variable 'layers/dense2/kernel/Adam:0' shape=(32, 10) dtype=float32_ref>,\n",
       " <tf.Variable 'layers/dense2/kernel/Adam_1:0' shape=(32, 10) dtype=float32_ref>,\n",
       " <tf.Variable 'layers/dense2/bias/Adam:0' shape=(10,) dtype=float32_ref>,\n",
       " <tf.Variable 'layers/dense2/bias/Adam_1:0' shape=(10,) dtype=float32_ref>]"
      ]
     },
     "execution_count": 19,
     "metadata": {},
     "output_type": "execute_result"
    }
   ],
   "source": [
    "tf.global_variables()"
   ]
  },
  {
   "cell_type": "markdown",
   "metadata": {},
   "source": [
    "### Train the network"
   ]
  },
  {
   "cell_type": "code",
   "execution_count": 20,
   "metadata": {},
   "outputs": [
    {
     "name": "stdout",
     "output_type": "stream",
     "text": [
      "Start Training\n",
      "Minibatch loss at step 0: 2.6650900840759277\n",
      "Minibatch loss at step 50: 2.0818142890930176\n",
      "Minibatch loss at step 100: 1.9448879957199097\n",
      "Minibatch loss at step 150: 1.540290355682373\n",
      "Minibatch loss at step 200: 1.0746417045593262\n",
      "Minibatch loss at step 250: 1.166687250137329\n",
      "Minibatch loss at step 300: 0.8204669952392578\n",
      "Minibatch loss at step 350: 1.0625207424163818\n",
      "Minibatch loss at step 400: 0.8733059763908386\n",
      "Minibatch loss at step 450: 0.8310351371765137\n",
      "Minibatch loss at step 500: 0.8320578336715698\n",
      "Minibatch loss at step 550: 0.7266581058502197\n",
      "Minibatch loss at step 600: 0.5459858179092407\n",
      "Minibatch loss at step 650: 0.6481188535690308\n",
      "Minibatch loss at step 700: 0.6188508868217468\n",
      "Minibatch loss at step 750: 0.6297138333320618\n",
      "Minibatch loss at step 800: 0.4615359902381897\n",
      "Minibatch loss at step 850: 0.7542099952697754\n",
      "Minibatch loss at step 900: 0.5149111747741699\n",
      "Minibatch loss at step 950: 0.7060717344284058\n",
      "Minibatch loss at step 1000: 0.5480108261108398\n",
      "Minibatch loss at step 1050: 0.6308480501174927\n",
      "Minibatch loss at step 1100: 0.3954135775566101\n",
      "Minibatch loss at step 1150: 0.7249554991722107\n",
      "Minibatch loss at step 1200: 0.634831428527832\n",
      "Minibatch loss at step 1250: 0.6516150236129761\n",
      "Minibatch loss at step 1300: 0.43471717834472656\n",
      "Minibatch loss at step 1350: 0.5979507565498352\n",
      "Minibatch loss at step 1400: 0.4388520121574402\n",
      "Minibatch loss at step 1450: 0.475014328956604\n",
      "Minibatch loss at step 1500: 0.4872525632381439\n",
      "Minibatch loss at step 1550: 0.46678876876831055\n",
      "Minibatch loss at step 1600: 0.6425482034683228\n",
      "Minibatch loss at step 1650: 0.6504967212677002\n",
      "Minibatch loss at step 1700: 0.4182608723640442\n",
      "Minibatch loss at step 1750: 0.43164706230163574\n",
      "Minibatch loss at step 1800: 0.34098339080810547\n",
      "Minibatch loss at step 1850: 0.5499706268310547\n",
      "Minibatch loss at step 1900: 0.5064768195152283\n",
      "Minibatch loss at step 1950: 0.44980040192604065\n",
      "Minibatch loss at step 2000: 0.470977246761322\n",
      "Minibatch loss at step 2050: 0.43473148345947266\n",
      "Minibatch loss at step 2100: 0.5182071924209595\n",
      "Minibatch loss at step 2150: 0.40848308801651\n",
      "Minibatch loss at step 2200: 0.40280860662460327\n",
      "Minibatch loss at step 2250: 0.4274454116821289\n",
      "Minibatch loss at step 2300: 0.4230518341064453\n",
      "Minibatch loss at step 2350: 0.3860870599746704\n",
      "Minibatch loss at step 2400: 0.4062052369117737\n",
      "Minibatch loss at step 2450: 0.4829704761505127\n",
      "Minibatch loss at step 2500: 0.4268219769001007\n",
      "Minibatch loss at step 2550: 0.47825074195861816\n",
      "Minibatch loss at step 2600: 0.48614105582237244\n",
      "Minibatch loss at step 2650: 0.3265206217765808\n",
      "Minibatch loss at step 2700: 0.25521641969680786\n",
      "Minibatch loss at step 2750: 0.3393990099430084\n",
      "Minibatch loss at step 2800: 0.4598226547241211\n",
      "Minibatch loss at step 2850: 0.4794342517852783\n",
      "Minibatch loss at step 2900: 0.2963758409023285\n",
      "Minibatch loss at step 2950: 0.3157143294811249\n",
      "Minibatch loss at step 3000: 0.3999769389629364\n",
      "Minibatch loss at step 3050: 0.3415423631668091\n",
      "Minibatch loss at step 3100: 0.30226975679397583\n",
      "Minibatch loss at step 3150: 0.2592984735965729\n",
      "Minibatch loss at step 3200: 0.32232865691185\n",
      "Minibatch loss at step 3250: 0.3952668607234955\n",
      "Minibatch loss at step 3300: 0.40378373861312866\n",
      "Minibatch loss at step 3350: 0.39741063117980957\n",
      "Minibatch loss at step 3400: 0.35068488121032715\n",
      "Minibatch loss at step 3450: 0.4064531922340393\n",
      "Minibatch loss at step 3500: 0.4063437581062317\n",
      "Minibatch loss at step 3550: 0.22189947962760925\n",
      "Minibatch loss at step 3600: 0.2672681212425232\n",
      "Minibatch loss at step 3650: 0.2692931890487671\n",
      "Minibatch loss at step 3700: 0.18580582737922668\n",
      "Minibatch loss at step 3750: 0.2731839418411255\n",
      "Minibatch loss at step 3800: 0.28401845693588257\n",
      "Minibatch loss at step 3850: 0.3197697401046753\n",
      "Minibatch loss at step 3900: 0.28640079498291016\n",
      "Minibatch loss at step 3950: 0.591032862663269\n",
      "Minibatch loss at step 4000: 0.3112264573574066\n",
      "Minibatch loss at step 4050: 0.31474852561950684\n",
      "Minibatch loss at step 4100: 0.29075223207473755\n",
      "Minibatch loss at step 4150: 0.29380345344543457\n",
      "Minibatch loss at step 4200: 0.2607603073120117\n",
      "Minibatch loss at step 4250: 0.2568187415599823\n",
      "Minibatch loss at step 4300: 0.5342113971710205\n",
      "Minibatch loss at step 4350: 0.2810431718826294\n",
      "Minibatch loss at step 4400: 0.286991685628891\n",
      "Minibatch loss at step 4450: 0.2781864106655121\n",
      "Minibatch loss at step 4500: 0.20287439227104187\n",
      "Minibatch loss at step 4550: 0.26682066917419434\n",
      "Minibatch loss at step 4600: 0.22176258265972137\n",
      "Minibatch loss at step 4650: 0.17810672521591187\n",
      "Minibatch loss at step 4700: 0.2375769019126892\n",
      "Minibatch loss at step 4750: 0.39806652069091797\n",
      "Minibatch loss at step 4800: 0.1965472251176834\n",
      "Minibatch loss at step 4850: 0.2170965075492859\n",
      "Minibatch loss at step 4900: 0.23169562220573425\n",
      "Minibatch loss at step 4950: 0.2690615653991699\n",
      "Minibatch loss at step 5000: 0.23038436472415924\n",
      "Minibatch loss at step 5050: 0.1384289562702179\n",
      "Minibatch loss at step 5100: 0.3870399296283722\n",
      "Minibatch loss at step 5150: 0.27801209688186646\n",
      "Minibatch loss at step 5200: 0.3147364854812622\n",
      "Minibatch loss at step 5250: 0.2911595404148102\n",
      "Minibatch loss at step 5300: 0.2229619026184082\n",
      "Minibatch loss at step 5350: 0.31779128313064575\n",
      "Minibatch loss at step 5400: 0.23604756593704224\n",
      "Minibatch loss at step 5450: 0.14080187678337097\n",
      "Minibatch loss at step 5500: 0.4295704662799835\n",
      "Minibatch loss at step 5550: 0.10881546139717102\n",
      "Minibatch loss at step 5600: 0.3301774859428406\n",
      "Minibatch loss at step 5650: 0.1409045159816742\n",
      "Minibatch loss at step 5700: 0.2634652853012085\n",
      "Minibatch loss at step 5750: 0.20899853110313416\n",
      "Minibatch loss at step 5800: 0.21787062287330627\n",
      "Minibatch loss at step 5850: 0.20010559260845184\n",
      "Minibatch loss at step 5900: 0.27756360173225403\n",
      "Minibatch loss at step 5950: 0.25891804695129395\n",
      "Minibatch loss at step 6000: 0.2452874332666397\n",
      "Minibatch loss at step 6050: 0.29422563314437866\n",
      "Minibatch loss at step 6100: 0.40434521436691284\n",
      "Minibatch loss at step 6150: 0.2034568190574646\n",
      "Minibatch loss at step 6200: 0.18901541829109192\n",
      "Minibatch loss at step 6250: 0.3143172264099121\n",
      "Minibatch loss at step 6300: 0.23298773169517517\n",
      "Minibatch loss at step 6350: 0.20990201830863953\n",
      "Minibatch loss at step 6400: 0.18714509904384613\n",
      "Minibatch loss at step 6450: 0.2582699656486511\n",
      "Minibatch loss at step 6500: 0.45533138513565063\n",
      "Minibatch loss at step 6550: 0.5480057001113892\n",
      "Minibatch loss at step 6600: 0.18843717873096466\n",
      "Minibatch loss at step 6650: 0.08881127089262009\n",
      "Minibatch loss at step 6700: 0.19603005051612854\n",
      "Minibatch loss at step 6750: 0.2828018367290497\n",
      "Minibatch loss at step 6800: 0.21174481511116028\n",
      "Minibatch loss at step 6850: 0.22574329376220703\n",
      "Minibatch loss at step 6900: 0.2429703176021576\n",
      "Minibatch loss at step 6950: 0.2303234040737152\n",
      "Minibatch loss at step 7000: 0.34065431356430054\n",
      "Minibatch loss at step 7050: 0.13135811686515808\n",
      "Minibatch loss at step 7100: 0.2291935682296753\n",
      "Minibatch loss at step 7150: 0.18880343437194824\n",
      "Minibatch loss at step 7200: 0.20772626996040344\n",
      "Minibatch loss at step 7250: 0.15941262245178223\n",
      "Minibatch loss at step 7300: 0.15648365020751953\n",
      "Minibatch loss at step 7350: 0.21160677075386047\n",
      "Minibatch loss at step 7400: 0.26359790563583374\n",
      "Minibatch loss at step 7450: 0.17546790838241577\n",
      "Minibatch loss at step 7500: 0.14983722567558289\n",
      "Minibatch loss at step 7550: 0.29622554779052734\n",
      "Minibatch loss at step 7600: 0.19102752208709717\n",
      "Minibatch loss at step 7650: 0.16577766835689545\n",
      "Minibatch loss at step 7700: 0.29465076327323914\n",
      "Minibatch loss at step 7750: 0.21580356359481812\n",
      "Minibatch loss at step 7800: 0.14741431176662445\n",
      "Minibatch loss at step 7850: 0.2529555857181549\n",
      "Minibatch loss at step 7900: 0.17611074447631836\n",
      "Minibatch loss at step 7950: 0.2429603636264801\n",
      "Minibatch loss at step 8000: 0.18296919763088226\n",
      "Minibatch loss at step 8050: 0.2635802626609802\n",
      "Minibatch loss at step 8100: 0.17755603790283203\n",
      "Minibatch loss at step 8150: 0.22856129705905914\n",
      "Minibatch loss at step 8200: 0.32030990719795227\n",
      "Minibatch loss at step 8250: 0.14119620621204376\n",
      "Minibatch loss at step 8300: 0.13930092751979828\n",
      "Minibatch loss at step 8350: 0.2695233225822449\n",
      "Minibatch loss at step 8400: 0.1839960217475891\n",
      "Minibatch loss at step 8450: 0.18651768565177917\n"
     ]
    },
    {
     "name": "stdout",
     "output_type": "stream",
     "text": [
      "Minibatch loss at step 8500: 0.20594759285449982\n",
      "Minibatch loss at step 8550: 0.13423515856266022\n",
      "Minibatch loss at step 8600: 0.15093310177326202\n",
      "Minibatch loss at step 8650: 0.3041343092918396\n",
      "Minibatch loss at step 8700: 0.17239028215408325\n",
      "Minibatch loss at step 8750: 0.26192694902420044\n",
      "Minibatch loss at step 8800: 0.14113456010818481\n",
      "Minibatch loss at step 8850: 0.23019932210445404\n",
      "Minibatch loss at step 8900: 0.17120355367660522\n",
      "Minibatch loss at step 8950: 0.2779163420200348\n",
      "Minibatch loss at step 9000: 0.1921759843826294\n",
      "Minibatch loss at step 9050: 0.19567987322807312\n",
      "Minibatch loss at step 9100: 0.26306575536727905\n",
      "Minibatch loss at step 9150: 0.11796946823596954\n",
      "Minibatch loss at step 9200: 0.30848991870880127\n",
      "Minibatch loss at step 9250: 0.19634902477264404\n",
      "Minibatch loss at step 9300: 0.09913086146116257\n",
      "Minibatch loss at step 9350: 0.19728875160217285\n",
      "Minibatch loss at step 9400: 0.16070997714996338\n",
      "Minibatch loss at step 9450: 0.16774147748947144\n",
      "Minibatch loss at step 9500: 0.24286717176437378\n",
      "Minibatch loss at step 9550: 0.20816820859909058\n",
      "Minibatch loss at step 9600: 0.2623712420463562\n",
      "Minibatch loss at step 9650: 0.19826896488666534\n",
      "Minibatch loss at step 9700: 0.17975544929504395\n",
      "Minibatch loss at step 9750: 0.1428985893726349\n",
      "Minibatch loss at step 9800: 0.16355712711811066\n",
      "Minibatch loss at step 9850: 0.2394002079963684\n",
      "Minibatch loss at step 9900: 0.1210724413394928\n",
      "Minibatch loss at step 9950: 0.17424914240837097\n",
      "Training time: 630.796505689621s\n"
     ]
    }
   ],
   "source": [
    "TRAIN_BATCH_SIZE = 128\n",
    "ITERATIONS = 10000\n",
    "\n",
    "import time\n",
    "start_time = time.time()\n",
    "\n",
    "losses = model.train(training_set_gs, training_labels_one_hot, TRAIN_BATCH_SIZE, ITERATIONS)\n",
    "\n",
    "end_time = time.time()\n",
    "print(\"Training time: {}s\".format(end_time - start_time))"
   ]
  },
  {
   "cell_type": "code",
   "execution_count": 21,
   "metadata": {},
   "outputs": [
    {
     "name": "stdout",
     "output_type": "stream",
     "text": [
      "(200, 2)\n"
     ]
    }
   ],
   "source": [
    "try:\n",
    "    losses = np.array(losses)\n",
    "    np.save('./train_losses.npy', losses)\n",
    "    print(losses.shape)\n",
    "except NameError:\n",
    "    losses = np.load('./train_losses.npy')"
   ]
  },
  {
   "cell_type": "code",
   "execution_count": 22,
   "metadata": {},
   "outputs": [
    {
     "data": {
      "image/png": "[encoded data removed]",
      "text/plain": [
       "<Figure size 720x360 with 1 Axes>"
      ]
     },
     "metadata": {
      "needs_background": "light"
     },
     "output_type": "display_data"
    }
   ],
   "source": [
    "import matplotlib.pyplot as plt\n",
    "\n",
    "iterations = losses[:, 0]\n",
    "train_loss = losses[:, 1]\n",
    "\n",
    "plt.figure(figsize=(10, 5))\n",
    "plt.plot(iterations, train_loss, 'b-')\n",
    "plt.xlabel(\"Iterations\")\n",
    "plt.ylabel(\"Loss\")\n",
    "plt.title(\"Training curve\")\n",
    "plt.show()"
   ]
  },
  {
   "cell_type": "markdown",
   "metadata": {},
   "source": [
    "### Test network predictions"
   ]
  },
  {
   "cell_type": "code",
   "execution_count": 23,
   "metadata": {},
   "outputs": [
    {
     "name": "stdout",
     "output_type": "stream",
     "text": [
      "INFO:tensorflow:Restoring parameters from ./model\n",
      "Average test loss: 0.4794174134731293\n"
     ]
    }
   ],
   "source": [
    "TEST_BATCH_SIZE = 128\n",
    "\n",
    "model.test(test_set_gs, test_labels_one_hot, TEST_BATCH_SIZE)"
   ]
  },
  {
   "cell_type": "code",
   "execution_count": 38,
   "metadata": {},
   "outputs": [
    {
     "name": "stdout",
     "output_type": "stream",
     "text": [
      "INFO:tensorflow:Restoring parameters from ./model\n",
      "Test sample digit: 6\n"
     ]
    },
    {
     "data": {
      "image/png": "[encoded data removed]",
      "text/plain": [
       "<Figure size 1224x360 with 2 Axes>"
      ]
     },
     "metadata": {
      "needs_background": "light"
     },
     "output_type": "display_data"
    },
    {
     "name": "stdout",
     "output_type": "stream",
     "text": [
      "Network prediction probabilities:\n",
      "[7.3632184e-32 6.9953211e-27 0.0000000e+00 5.0208518e-34 2.6714735e-33\n",
      " 4.2069558e-18 1.0000000e+00 3.1535893e-36 1.2026985e-20 2.2073385e-35]\n"
     ]
    }
   ],
   "source": [
    "example = np.random.choice(np.arange(n_test))\n",
    "\n",
    "sample = np.expand_dims(test_set_gs[example], axis=0)\n",
    "label = np.expand_dims(test_labels_one_hot[example], axis=0)\n",
    "\n",
    "digit = np.where(label[0]==1.0)[0][0]\n",
    "\n",
    "feed_dict = {model.input: sample, model.ground_truth: label, model.is_training: False}\n",
    "\n",
    "with tf.Session() as sess:\n",
    "    saver = tf.train.import_meta_graph(\"./model.meta\")\n",
    "    saver.restore(sess, './model')\n",
    "    prediction = sess.run(model.prediction, feed_dict=feed_dict)[0]\n",
    "\n",
    "image = np.reshape(sample, (32, 32))\n",
    "\n",
    "print(\"Test sample digit: {}\".format(digit))\n",
    "fig, ax = plt.subplots(1, 2, figsize=(17, 5))\n",
    "ax[0].imshow(image, cmap='gray')\n",
    "ax[0].set_title(\"Test example\")\n",
    "\n",
    "classes = np.arange(10)\n",
    "width = 1.0\n",
    "\n",
    "#fig, ax = plt.subplots()\n",
    "ax[1].bar(classes, prediction, width, color='Blue')\n",
    "ax[1].set_ylabel('Probabilities')\n",
    "ax[1].set_title('Network categorical distribution')\n",
    "ax[1].set_xticks(classes)\n",
    "ax[1].set_xticklabels(('0', '1', '2', '3', '4', '5', '6', '7', '8', '9'))\n",
    "ax[1].set_xlabel('Digit class')\n",
    "\n",
    "plt.show()\n",
    "\n",
    "print(\"Network prediction probabilities:\")\n",
    "print(prediction)"
   ]
  },
  {
   "cell_type": "code",
   "execution_count": null,
   "metadata": {
    "collapsed": true
   },
   "outputs": [],
   "source": []
  }
 ],
 "metadata": {
  "kernelspec": {
   "display_name": "Python [default]",
   "language": "python",
   "name": "python3"
  },
  "language_info": {
   "codemirror_mode": {
    "name": "ipython",
    "version": 3
   },
   "file_extension": ".py",
   "mimetype": "text/x-python",
   "name": "python",
   "nbconvert_exporter": "python",
   "pygments_lexer": "ipython3",
   "version": "3.6.6"
  }
 },
 "nbformat": 4,
 "nbformat_minor": 2
}
